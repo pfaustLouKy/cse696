{
 "cells": [
  {
   "cell_type": "code",
   "execution_count": 1,
   "id": "de2d4cbf-5d59-4b57-8baf-b2776b4d05aa",
   "metadata": {},
   "outputs": [
    {
     "name": "stdout",
     "output_type": "stream",
     "text": [
      "[[0.5]\n",
      " [0.5]]\n"
     ]
    }
   ],
   "source": [
    "import numpy as np\n",
    " \n",
    "ket0 = np.array([[1], [0]])\n",
    "ket1 = np.array([[0], [1]])\n",
    " \n",
    "print(ket0 / 2 + ket1 / 2)"
   ]
  },
  {
   "cell_type": "markdown",
   "id": "60b1903f-30ce-4180-a4c6-dfea003003be",
   "metadata": {},
   "source": [
    "these below are matrices but still kets"
   ]
  },
  {
   "cell_type": "code",
   "execution_count": 10,
   "id": "6c9e07b1-3c31-4cc7-b8ca-36ba6da9e172",
   "metadata": {},
   "outputs": [
    {
     "name": "stdout",
     "output_type": "stream",
     "text": [
      "[[0.5 0.5]\n",
      " [0.  0. ]]\n",
      "[[0.5 0. ]\n",
      " [0.  0.5]]\n",
      "[[1.  0.5]\n",
      " [0.  0.5]]\n"
     ]
    }
   ],
   "source": [
    "M1 = np.array([[1, 1], [0, 0]])\n",
    "print(M1/2)\n",
    "M2 = np.array([[1, 0], [0, 1]])\n",
    "print(M2/2)\n",
    "M = M1 / 2 + M2 / 2\n",
    "print(M)"
   ]
  },
  {
   "cell_type": "code",
   "execution_count": 3,
   "id": "dfef093b-3d6a-428e-a1ed-a12a62359fda",
   "metadata": {},
   "outputs": [
    {
     "name": "stdout",
     "output_type": "stream",
     "text": [
      "[[1]\n",
      " [0]]\n",
      "[[1 1]\n",
      " [0 0]]\n",
      "[[1.   0.75]\n",
      " [0.   0.25]]\n"
     ]
    }
   ],
   "source": [
    "print(np.matmul(M1, ket1))\n",
    "print(np.matmul(M1, M2))\n",
    "print(np.matmul(M, M))"
   ]
  },
  {
   "cell_type": "code",
   "execution_count": 4,
   "id": "86225a46-9ff5-489a-802d-4679a82fd3c2",
   "metadata": {},
   "outputs": [
    {
     "data": {
      "text/latex": [
       "$$\n",
       "\n",
       "\\begin{bmatrix}\n",
       "1  \\\\\n",
       " 0  \\\\\n",
       " \\end{bmatrix}\n",
       "$$"
      ],
      "text/plain": [
       "<IPython.core.display.Latex object>"
      ]
     },
     "metadata": {},
     "output_type": "display_data"
    },
    {
     "data": {
      "text/latex": [
       "$$\n",
       "\n",
       "\\begin{bmatrix}\n",
       "1 & 1  \\\\\n",
       " 0 & 0  \\\\\n",
       " \\end{bmatrix}\n",
       "$$"
      ],
      "text/plain": [
       "<IPython.core.display.Latex object>"
      ]
     },
     "metadata": {},
     "output_type": "display_data"
    },
    {
     "data": {
      "text/latex": [
       "$$\n",
       "\n",
       "\\begin{bmatrix}\n",
       "1 & \\frac{3}{4}  \\\\\n",
       " 0 & \\frac{1}{4}  \\\\\n",
       " \\end{bmatrix}\n",
       "$$"
      ],
      "text/plain": [
       "<IPython.core.display.Latex object>"
      ]
     },
     "metadata": {},
     "output_type": "display_data"
    }
   ],
   "source": [
    "from qiskit.visualization import array_to_latex\n",
    "\n",
    "display(array_to_latex(np.matmul(M1, ket1)))\n",
    "display(array_to_latex(np.matmul(M1, M2)))\n",
    "display(array_to_latex(np.matmul(M, M)))"
   ]
  },
  {
   "cell_type": "code",
   "execution_count": 2,
   "id": "1e3a8f5c-623a-4812-a787-d4c3719ea50f",
   "metadata": {},
   "outputs": [],
   "source": [
    "from qiskit.quantum_info import Statevector\n",
    "from numpy import sqrt\n",
    " \n",
    "u = Statevector([1 / sqrt(2), 1 / sqrt(2)])\n",
    "v = Statevector([(1 + 2.0j) / 3, -2 / 3])\n",
    "w = Statevector([1 / 3, 2 / 3])"
   ]
  },
  {
   "cell_type": "code",
   "execution_count": 3,
   "id": "cdc677ad-d5b9-4d40-b69c-ed04da239418",
   "metadata": {},
   "outputs": [
    {
     "data": {
      "text/plain": [
       "[0.70710678+0.j,0.70710678+0.j]"
      ]
     },
     "metadata": {},
     "output_type": "display_data"
    },
    {
     "data": {
      "text/latex": [
       "$$\\frac{\\sqrt{2}}{2} |0\\rangle+\\frac{\\sqrt{2}}{2} |1\\rangle$$"
      ],
      "text/plain": [
       "<IPython.core.display.Latex object>"
      ]
     },
     "metadata": {},
     "output_type": "display_data"
    },
    {
     "name": "stdout",
     "output_type": "stream",
     "text": [
      "\\frac{\\sqrt{2}}{2} |0\\rangle+\\frac{\\sqrt{2}}{2} |1\\rangle\n"
     ]
    }
   ],
   "source": [
    "display(u.draw(\"text\"))\n",
    "display(u.draw(\"latex\"))\n",
    "print(u.draw(\"latex_source\"))"
   ]
  },
  {
   "cell_type": "code",
   "execution_count": 4,
   "id": "7c8b699c-9d4a-47c4-9eb2-8165ddaa8348",
   "metadata": {},
   "outputs": [
    {
     "data": {
      "text/plain": [
       "True"
      ]
     },
     "metadata": {},
     "output_type": "display_data"
    },
    {
     "data": {
      "text/plain": [
       "False"
      ]
     },
     "metadata": {},
     "output_type": "display_data"
    }
   ],
   "source": [
    "display(u.is_valid())\n",
    "display(w.is_valid())"
   ]
  },
  {
   "cell_type": "code",
   "execution_count": 5,
   "id": "056b9f12-9fee-43ef-aaf7-96f08dfa5c30",
   "metadata": {},
   "outputs": [
    {
     "data": {
      "text/latex": [
       "$$(\\frac{1}{3} + \\frac{2 i}{3}) |0\\rangle- \\frac{2}{3} |1\\rangle$$"
      ],
      "text/plain": [
       "<IPython.core.display.Latex object>"
      ]
     },
     "metadata": {},
     "output_type": "display_data"
    }
   ],
   "source": [
    "display(v.draw(\"latex\"))"
   ]
  },
  {
   "cell_type": "code",
   "execution_count": 6,
   "id": "4b6cc458-a068-4935-915c-8423abc1cba8",
   "metadata": {},
   "outputs": [
    {
     "name": "stdout",
     "output_type": "stream",
     "text": [
      "Measured: 1\n",
      "Post-measurement state:\n"
     ]
    },
    {
     "data": {
      "text/latex": [
       "$$- |1\\rangle$$"
      ],
      "text/plain": [
       "<IPython.core.display.Latex object>"
      ]
     },
     "metadata": {},
     "output_type": "display_data"
    }
   ],
   "source": [
    "outcome, state = v.measure()\n",
    "print(f\"Measured: {outcome}\\nPost-measurement state:\")\n",
    "display(state.draw(\"latex\"))"
   ]
  },
  {
   "cell_type": "code",
   "execution_count": 7,
   "id": "8681a7aa-0894-4fe3-9356-acd2e3b3cbc2",
   "metadata": {},
   "outputs": [
    {
     "data": {
      "image/png": "[encoded data removed]",
      "text/plain": [
       "<Figure size 640x480 with 1 Axes>"
      ]
     },
     "execution_count": 7,
     "metadata": {},
     "output_type": "execute_result"
    }
   ],
   "source": [
    "from qiskit.visualization import plot_histogram\n",
    " \n",
    "statistics = v.sample_counts(1000)\n",
    "plot_histogram(statistics)"
   ]
  },
  {
   "cell_type": "code",
   "execution_count": 8,
   "id": "1e3fa3c9-30bb-4c34-a9d2-9a96404b3b30",
   "metadata": {},
   "outputs": [
    {
     "data": {
      "text/latex": [
       "$$\n",
       "\n",
       "\\begin{bmatrix}\n",
       "1 & 0  \\\\\n",
       " 0 & \\frac{\\sqrt{2}}{2} + \\frac{\\sqrt{2} i}{2}  \\\\\n",
       " \\end{bmatrix}\n",
       "$$"
      ],
      "text/plain": [
       "<IPython.core.display.Latex object>"
      ]
     },
     "metadata": {},
     "output_type": "display_data"
    }
   ],
   "source": [
    "from qiskit.quantum_info import Operator\n",
    " \n",
    "Y = Operator([[0, -1.0j], [1.0j, 0]])\n",
    "H = Operator([[1 / sqrt(2), 1 / sqrt(2)], [1 / sqrt(2), -1 / sqrt(2)]])\n",
    "S = Operator([[1, 0], [0, 1.0j]])\n",
    "T = Operator([[1, 0], [0, (1 + 1.0j) / sqrt(2)]])\n",
    " \n",
    "display(T.draw(\"latex\"))"
   ]
  },
  {
   "cell_type": "code",
   "execution_count": 9,
   "id": "db140f1a-249e-41f7-8995-155ab8a55b02",
   "metadata": {},
   "outputs": [
    {
     "data": {
      "text/latex": [
       "$$(0.1464466094 - 0.3535533906 i) |0\\rangle+(-0.3535533906 + 0.8535533906 i) |1\\rangle$$"
      ],
      "text/plain": [
       "<IPython.core.display.Latex object>"
      ]
     },
     "metadata": {},
     "output_type": "display_data"
    }
   ],
   "source": [
    "v = Statevector([1, 0])\n",
    " \n",
    "v = v.evolve(H)\n",
    "v = v.evolve(T)\n",
    "v = v.evolve(H)\n",
    "v = v.evolve(S)\n",
    "v = v.evolve(Y)\n",
    " \n",
    "display(v.draw(\"latex\"))"
   ]
  },
  {
   "cell_type": "code",
   "execution_count": 10,
   "id": "54edefce-5001-4861-97c3-0735fde9813e",
   "metadata": {},
   "outputs": [
    {
     "data": {
      "image/png": "[encoded data removed]",
      "text/plain": [
       "<Figure size 519.897x117.056 with 1 Axes>"
      ]
     },
     "metadata": {},
     "output_type": "display_data"
    }
   ],
   "source": [
    "from qiskit import QuantumCircuit\n",
    " \n",
    "circuit = QuantumCircuit(1)\n",
    " \n",
    "circuit.h(0)\n",
    "circuit.t(0)\n",
    "circuit.h(0)\n",
    "circuit.s(0)\n",
    "circuit.y(0)\n",
    " \n",
    "display(circuit.draw(output=\"mpl\"))"
   ]
  },
  {
   "cell_type": "code",
   "execution_count": 11,
   "id": "a02ded03-5f2e-4f7a-876d-4dfb798c88d5",
   "metadata": {},
   "outputs": [
    {
     "data": {
      "text/latex": [
       "$$\n",
       "\n",
       "\\begin{bmatrix}\n",
       "0.1464466094 - 0.3535533906 i & 0.8535533906 + 0.3535533906 i  \\\\\n",
       " -0.3535533906 + 0.8535533906 i & 0.3535533906 + 0.1464466094 i  \\\\\n",
       " \\end{bmatrix}\n",
       "$$"
      ],
      "text/plain": [
       "<IPython.core.display.Latex object>"
      ]
     },
     "metadata": {},
     "output_type": "display_data"
    }
   ],
   "source": [
    "display(Operator.from_circuit(circuit).draw(\"latex\"))"
   ]
  },
  {
   "cell_type": "code",
   "execution_count": 12,
   "id": "de9905ad-78e9-4106-b7a4-a2c31a7af51c",
   "metadata": {},
   "outputs": [
    {
     "data": {
      "text/latex": [
       "$$(0.1464466094 - 0.3535533906 i) |0\\rangle+(-0.3535533906 + 0.8535533906 i) |1\\rangle$$"
      ],
      "text/plain": [
       "<IPython.core.display.Latex object>"
      ]
     },
     "metadata": {},
     "output_type": "display_data"
    }
   ],
   "source": [
    "ket0 = Statevector([1, 0])\n",
    "v = ket0.evolve(circuit)\n",
    "display(v.draw(\"latex\"))"
   ]
  },
  {
   "cell_type": "code",
   "execution_count": 13,
   "id": "c93908d6-a5d9-436c-9a3c-f8bab4acdbcc",
   "metadata": {},
   "outputs": [
    {
     "data": {
      "image/png": "[encoded data removed]",
      "text/plain": [
       "<Figure size 640x480 with 1 Axes>"
      ]
     },
     "metadata": {},
     "output_type": "display_data"
    }
   ],
   "source": [
    "statistics = v.sample_counts(4000)\n",
    "display(plot_histogram(statistics))"
   ]
  },
  {
   "cell_type": "code",
   "execution_count": null,
   "id": "72a37aaf-7370-4d55-a3c1-84aa7d046f29",
   "metadata": {},
   "outputs": [],
   "source": []
  }
 ],
 "metadata": {
  "kernelspec": {
   "display_name": "Python 3 (ipykernel)",
   "language": "python",
   "name": "python3"
  },
  "language_info": {
   "codemirror_mode": {
    "name": "ipython",
    "version": 3
   },
   "file_extension": ".py",
   "mimetype": "text/x-python",
   "name": "python",
   "nbconvert_exporter": "python",
   "pygments_lexer": "ipython3",
   "version": "3.11.2"
  }
 },
 "nbformat": 4,
 "nbformat_minor": 5
}
