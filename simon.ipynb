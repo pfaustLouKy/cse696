{
 "cells": [
  {
   "cell_type": "code",
   "execution_count": 5,
   "id": "ff33e36a-44e1-4a3e-86c3-bc00046862da",
   "metadata": {},
   "outputs": [
    {
     "name": "stdout",
     "output_type": "stream",
     "text": [
      "Measurement results:\n",
      "0000: 260\n",
      "0100: 265\n",
      "1000: 251\n",
      "1100: 248\n"
     ]
    }
   ],
   "source": [
    "from qiskit import QuantumCircuit, transpile\n",
    "from qiskit_aer import Aer\n",
    "from qiskit.visualization import plot_histogram\n",
    "import matplotlib.pyplot as plt\n",
    "\n",
    "# Secret string\n",
    "s = '0011'\n",
    "n = len(s)\n",
    "\n",
    "# Oracle for Simon's problem\n",
    "def simon_oracle(s):\n",
    "    oracle = QuantumCircuit(2 * n)\n",
    "    for i in range(n):\n",
    "        if s[i] == '1':\n",
    "            oracle.cx(i, n + i)\n",
    "    return oracle\n",
    "\n",
    "# Build Simon's algorithm circuit\n",
    "qc = QuantumCircuit(2 * n, n)\n",
    "\n",
    "# Step 1: Hadamard on input qubits\n",
    "qc.h(range(n))\n",
    "\n",
    "# Step 2: Apply the oracle\n",
    "oracle = simon_oracle(s)\n",
    "qc.compose(oracle, inplace=True)\n",
    "\n",
    "# Step 3: Hadamard again on input qubits\n",
    "qc.h(range(n))\n",
    "\n",
    "# Step 4: Measure input qubits\n",
    "qc.measure(range(n), range(n))\n",
    "\n",
    "# Simulate\n",
    "sim = Aer.get_backend('aer_simulator')\n",
    "qc = transpile(qc, sim)\n",
    "result = sim.run(qc, shots=1024).result()\n",
    "counts = result.get_counts()\n",
    "\n",
    "# Output results\n",
    "print(\"Measurement results:\")\n",
    "for bitstring, count in sorted(counts.items()):\n",
    "    print(f\"{bitstring}: {count}\")\n",
    "\n",
    "# Optional: plot histogram\n",
    "#plot_histogram(counts)\n",
    "#plt.show()"
   ]
  },
  {
   "cell_type": "code",
   "execution_count": null,
   "id": "60586d88-be91-4ee7-9f5f-8322f8da4d53",
   "metadata": {},
   "outputs": [],
   "source": []
  }
 ],
 "metadata": {
  "kernelspec": {
   "display_name": "Python 3 (ipykernel)",
   "language": "python",
   "name": "python3"
  },
  "language_info": {
   "codemirror_mode": {
    "name": "ipython",
    "version": 3
   },
   "file_extension": ".py",
   "mimetype": "text/x-python",
   "name": "python",
   "nbconvert_exporter": "python",
   "pygments_lexer": "ipython3",
   "version": "3.11.2"
  }
 },
 "nbformat": 4,
 "nbformat_minor": 5
}
