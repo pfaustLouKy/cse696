{
 "cells": [
  {
   "cell_type": "code",
   "execution_count": null,
   "id": "9953befd-e325-4093-8ee3-08d085fd894b",
   "metadata": {},
   "outputs": [],
   "source": [
    "Controlled-U operation"
   ]
  },
  {
   "cell_type": "code",
   "execution_count": 5,
   "id": "f69e38b2-cbad-4c33-89bd-4a006425168e",
   "metadata": {},
   "outputs": [
    {
     "data": {
      "image/png": "[encoded data removed]",
      "text/plain": [
       "<Figure size 634.96x200.667 with 1 Axes>"
      ]
     },
     "execution_count": 5,
     "metadata": {},
     "output_type": "execute_result"
    }
   ],
   "source": [
    "# If needed in your notebook:\n",
    "# %pip install qiskit qiskit-aer\n",
    "\n",
    "from math import pi\n",
    "from qiskit import QuantumCircuit, QuantumRegister\n",
    "from qiskit.circuit.library import PhaseGate\n",
    "\n",
    "# --- parameters (tweak φ to taste) ---\n",
    "phi = 1/4  # the phase U = Rz(2πφ) applies to the target (eigenstate)\n",
    "# -------------------------------------\n",
    "\n",
    "# Name the wires so the left labels match your diagram\n",
    "ctrl = QuantumRegister(1, \"∣0⟩\")   # control wire label\n",
    "targ = QuantumRegister(1, \"∣ψ⟩\")   # target/eigenstate wire label\n",
    "qc = QuantumCircuit(ctrl, targ, name=\"Phase kickback\")\n",
    "\n",
    "# Prepare: (optionally set the target to |1> if your |ψ> is |1>)\n",
    "#qc.x(targ[0])  # uncomment if you want |ψ>=|1⟩ explicitly\n",
    "\n",
    "# H on control (left blue H in your SVG)\n",
    "qc.h(ctrl[0])\n",
    "qc.barrier()\n",
    "\n",
    "# Controlled-U on target (U = Rz(2πφ)), shows as a control dot linked to a box 'U'\n",
    "U = PhaseGate(2*pi*phi, label=\"U\")   # single-qubit U with a 'U' label\n",
    "cU = U.control(1)                    # make it controlled by the control qubit\n",
    "qc.append(cU, [ctrl[0], targ[0]])\n",
    "qc.barrier()\n",
    "\n",
    "# H on control (right blue H in your SVG)\n",
    "qc.h(ctrl[0])\n",
    "\n",
    "# Draw inline (no saving to file)\n",
    "qc.draw(\"mpl\")\n",
    "\n"
   ]
  },
  {
   "cell_type": "code",
   "execution_count": 1,
   "id": "8997b96d-d100-4aa5-9bdd-c19d1986f9df",
   "metadata": {},
   "outputs": [
    {
     "data": {
      "image/png": "[encoded data removed]",
      "text/plain": [
       "<Figure size 567.579x367.889 with 1 Axes>"
      ]
     },
     "execution_count": 1,
     "metadata": {},
     "output_type": "execute_result"
    }
   ],
   "source": [
    "# %pip install qiskit  # if needed\n",
    "\n",
    "from qiskit import QuantumCircuit, QuantumRegister\n",
    "\n",
    "# --- layout: 1 control wire + N target wires that the blue \"U\" spans ---\n",
    "N = 3  # number of target qubits shown running horizontally through the U box\n",
    "\n",
    "ctrl = QuantumRegister(1, \"∣0⟩\")      # control line (top)\n",
    "targ = QuantumRegister(N, \"∣ψ⟩\")      # target system with many lines\n",
    "qc = QuantumCircuit(ctrl, targ, name=\"Controlled multi-qubit U\")\n",
    "\n",
    "# Left H on the control (like your diagram)\n",
    "qc.h(ctrl[0])\n",
    "qc.barrier()\n",
    "\n",
    "# --- Build a multi-qubit unitary as a single boxed gate labeled \"U\" ---\n",
    "# Use a subcircuit so the drawer shows a single blue box across all target wires.\n",
    "U_body = QuantumCircuit(N, name=\"U\")\n",
    "# (the contents don't matter for the picture; keep them collapsed in a single box)\n",
    "# If you want a real action, you *can* add gates here, but they stay hidden/collapsed in the box.\n",
    "\n",
    "U_gate = U_body.to_gate(label=\"U\")    # make it a gate with the label \"U\"\n",
    "cU = U_gate.control(1)                 # controlled-U (one control dot)\n",
    "\n",
    "# Place the controlled-U between control and all N targets\n",
    "qc.append(cU, [ctrl[0], *targ])\n",
    "\n",
    "qc.barrier()\n",
    "\n",
    "# Right H on the control (like your diagram)\n",
    "qc.h(ctrl[0])\n",
    "\n",
    "# Draw inline (no saving to file)\n",
    "qc.draw(\"mpl\")\n"
   ]
  },
  {
   "cell_type": "code",
   "execution_count": null,
   "id": "cea4fef5-84ee-4506-801e-b0ecaa9d01b6",
   "metadata": {},
   "outputs": [],
   "source": []
  }
 ],
 "metadata": {
  "kernelspec": {
   "display_name": "Python 3 (ipykernel)",
   "language": "python",
   "name": "python3"
  },
  "language_info": {
   "codemirror_mode": {
    "name": "ipython",
    "version": 3
   },
   "file_extension": ".py",
   "mimetype": "text/x-python",
   "name": "python",
   "nbconvert_exporter": "python",
   "pygments_lexer": "ipython3",
   "version": "3.11.2"
  }
 },
 "nbformat": 4,
 "nbformat_minor": 5
}
