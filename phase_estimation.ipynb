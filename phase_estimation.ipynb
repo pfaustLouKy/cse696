{
 "cells": [
  {
   "cell_type": "code",
   "execution_count": 5,
   "id": "f69e38b2-cbad-4c33-89bd-4a006425168e",
   "metadata": {},
   "outputs": [
    {
     "data": {
      "image/png": "[encoded data removed]",
      "text/plain": [
       "<Figure size 634.96x200.667 with 1 Axes>"
      ]
     },
     "execution_count": 5,
     "metadata": {},
     "output_type": "execute_result"
    }
   ],
   "source": [
    "# If needed in your notebook:\n",
    "# %pip install qiskit qiskit-aer\n",
    "\n",
    "from math import pi\n",
    "from qiskit import QuantumCircuit, QuantumRegister\n",
    "from qiskit.circuit.library import PhaseGate\n",
    "\n",
    "# --- parameters (tweak φ to taste) ---\n",
    "phi = 1/4  # the phase U = Rz(2πφ) applies to the target (eigenstate)\n",
    "# -------------------------------------\n",
    "\n",
    "# Name the wires so the left labels match your diagram\n",
    "ctrl = QuantumRegister(1, \"∣0⟩\")   # control wire label\n",
    "targ = QuantumRegister(1, \"∣ψ⟩\")   # target/eigenstate wire label\n",
    "qc = QuantumCircuit(ctrl, targ, name=\"Phase kickback\")\n",
    "\n",
    "# Prepare: (optionally set the target to |1> if your |ψ> is |1>)\n",
    "#qc.x(targ[0])  # uncomment if you want |ψ>=|1⟩ explicitly\n",
    "\n",
    "# H on control (left blue H in your SVG)\n",
    "qc.h(ctrl[0])\n",
    "qc.barrier()\n",
    "\n",
    "# Controlled-U on target (U = Rz(2πφ)), shows as a control dot linked to a box 'U'\n",
    "U = PhaseGate(2*pi*phi, label=\"U\")   # single-qubit U with a 'U' label\n",
    "cU = U.control(1)                    # make it controlled by the control qubit\n",
    "qc.append(cU, [ctrl[0], targ[0]])\n",
    "qc.barrier()\n",
    "\n",
    "# H on control (right blue H in your SVG)\n",
    "qc.h(ctrl[0])\n",
    "\n",
    "# Draw inline (no saving to file)\n",
    "qc.draw(\"mpl\")\n",
    "\n"
   ]
  },
  {
   "cell_type": "code",
   "execution_count": null,
   "id": "8997b96d-d100-4aa5-9bdd-c19d1986f9df",
   "metadata": {},
   "outputs": [],
   "source": []
  }
 ],
 "metadata": {
  "kernelspec": {
   "display_name": "Python 3 (ipykernel)",
   "language": "python",
   "name": "python3"
  },
  "language_info": {
   "codemirror_mode": {
    "name": "ipython",
    "version": 3
   },
   "file_extension": ".py",
   "mimetype": "text/x-python",
   "name": "python",
   "nbconvert_exporter": "python",
   "pygments_lexer": "ipython3",
   "version": "3.11.2"
  }
 },
 "nbformat": 4,
 "nbformat_minor": 5
}
